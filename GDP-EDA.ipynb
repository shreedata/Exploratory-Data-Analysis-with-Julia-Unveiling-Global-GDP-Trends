{
 "cells": [
  {
   "cell_type": "markdown",
   "metadata": {},
   "source": [
    "1. Loading the dataset"
   ]
  },
  {
   "cell_type": "code",
   "execution_count": null,
   "metadata": {},
   "outputs": [],
   "source": [
    "using CSV\n",
    "using DataFrames\n",
    "using Plots\n",
    "using Statistics\n",
    "\n",
    "\n",
    "# Load the CSV file into a DataFrame\n",
    "df = CSV.read(\"d:/Datasets/gdp.csv\", DataFrame)"
   ]
  },
  {
   "cell_type": "markdown",
   "metadata": {},
   "source": [
    "2. Understanding the data"
   ]
  },
  {
   "cell_type": "code",
   "execution_count": null,
   "metadata": {},
   "outputs": [],
   "source": [
    "describe(df)\n",
    "\n",
    "first(df,10)\n",
    "\n",
    "last(df,2)\n",
    "\n",
    "names(df)\n",
    "\n",
    "eltype.(eachcol(df))"
   ]
  },
  {
   "cell_type": "markdown",
   "metadata": {},
   "source": [
    "3. Data cleaning"
   ]
  },
  {
   "cell_type": "code",
   "execution_count": null,
   "metadata": {},
   "outputs": [],
   "source": [
    "any(ismissing.(eachcol(df)))\n",
    "\n",
    "dropmissing!(df)\n",
    "\n"
   ]
  },
  {
   "cell_type": "markdown",
   "metadata": {},
   "source": [
    "4. Basic data exploration"
   ]
  },
  {
   "cell_type": "code",
   "execution_count": null,
   "metadata": {},
   "outputs": [],
   "source": [
    "unique_countries = unique(df.\"Country Name\")\n",
    "for c in unique_countries\n",
    "    if startswith(c, \"I\")\n",
    "        println(c)\n",
    "    end\n",
    "end"
   ]
  },
  {
   "cell_type": "code",
   "execution_count": null,
   "metadata": {},
   "outputs": [],
   "source": [
    "afghanistan_gdp = df[df.\"Country Name\" .== \"Afghanistan\", :]\n",
    "println(afghanistan_gdp)"
   ]
  },
  {
   "cell_type": "markdown",
   "metadata": {},
   "source": [
    "5. Visuals"
   ]
  },
  {
   "cell_type": "code",
   "execution_count": null,
   "metadata": {},
   "outputs": [],
   "source": [
    "Indian_gdp = df[df.\"Country Name\" .== \"India\",:]\n",
    "plot(Indian_gdp.Year, Indian_gdp.Value, title=\"GDP Trend for India\", xlabel=\"Year\", ylabel=\"GDP\")"
   ]
  },
  {
   "cell_type": "code",
   "execution_count": null,
   "metadata": {},
   "outputs": [],
   "source": [
    "# Group data by year\n",
    "grouped_by_year = groupby(df, :Year)\n",
    "\n",
    "# Compute mean GDP for each year\n",
    "mean_gdp_by_year = combine(grouped_by_year, :Value => mean => :Mean_GDP)\n",
    "# Plot mean GDP by year\n",
    "plot(mean_gdp_by_year.Year, mean_gdp_by_year.Mean_GDP, title=\"Mean GDP by Year\", xlabel=\"Year\", ylabel=\"Mean GDP\", legend=false)\n"
   ]
  },
  {
   "cell_type": "code",
   "execution_count": null,
   "metadata": {},
   "outputs": [],
   "source": [
    "df_year2022= df[df.Year .== 2022, :]\n",
    "#bar(df_year2022.\"Country Name\", df_year2022.Value, title=\"GDP of countries in the year 2022\", xlabel=\"Countries\",ylabel=\"GDP\")\n",
    "#scatter(df_year2022.\"Country Name\", df_year2022.Value, title=\"GDP of countries in the year 2022\", xlabel=\"Countries\",ylabel=\"GDP\")\n",
    "plot(df_year2022.\"Country Name\", df_year2022.Value, title=\"GDP of countries in the year 2022\", xlabel=\"Countries\",ylabel=\"GDP\")"
   ]
  },
  {
   "cell_type": "markdown",
   "metadata": {},
   "source": [
    "6. Statistics"
   ]
  },
  {
   "cell_type": "code",
   "execution_count": null,
   "metadata": {},
   "outputs": [],
   "source": [
    "# Mean GDP value\n",
    "mean_gdp = mean(df.Value)\n",
    "println(\"Mean GDP: $mean_gdp\")\n",
    "\n",
    "# Median GDP value\n",
    "median_gdp = median(df.Value)\n",
    "println(\"Median GDP: $median_gdp\")\n",
    "\n",
    "# Standard deviation of GDP values\n",
    "std_gdp = std(df.Value)\n",
    "println(\"Standard Deviation of GDP: $std_gdp\")\n",
    "\n",
    "# Variance of GDP values\n",
    "var_gdp = var(df.Value)\n",
    "println(\"Variance of GDP: $var_gdp\")\n"
   ]
  }
 ],
 "metadata": {
  "kernelspec": {
   "display_name": "Julia 1.11.2",
   "language": "julia",
   "name": "julia-1.11"
  },
  "language_info": {
   "file_extension": ".jl",
   "mimetype": "application/julia",
   "name": "julia",
   "version": "1.11.2"
  }
 },
 "nbformat": 4,
 "nbformat_minor": 2
}
